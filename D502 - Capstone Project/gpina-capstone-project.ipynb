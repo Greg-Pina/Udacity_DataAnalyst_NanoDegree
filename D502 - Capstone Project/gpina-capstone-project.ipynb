{
 "cells": [
  {
   "cell_type": "code",
   "execution_count": 7,
   "metadata": {},
   "outputs": [
    {
     "name": "stdout",
     "output_type": "stream",
     "text": [
      "Requirement already satisfied: pandas in /home/pinagm/.venv/lib/python3.12/site-packages (2.2.3)\n",
      "Requirement already satisfied: numpy in /home/pinagm/.venv/lib/python3.12/site-packages (2.2.3)\n",
      "Requirement already satisfied: matplotlib in /home/pinagm/.venv/lib/python3.12/site-packages (3.10.0)\n",
      "Requirement already satisfied: seaborn in /home/pinagm/.venv/lib/python3.12/site-packages (0.13.2)\n",
      "Requirement already satisfied: statsmodels in /home/pinagm/.venv/lib/python3.12/site-packages (0.14.4)\n",
      "Requirement already satisfied: requests in /home/pinagm/.venv/lib/python3.12/site-packages (2.32.3)\n",
      "Collecting openpyxl\n",
      "  Downloading openpyxl-3.1.5-py2.py3-none-any.whl.metadata (2.5 kB)\n",
      "Requirement already satisfied: python-dateutil>=2.8.2 in /home/pinagm/.venv/lib/python3.12/site-packages (from pandas) (2.9.0.post0)\n",
      "Requirement already satisfied: pytz>=2020.1 in /home/pinagm/.venv/lib/python3.12/site-packages (from pandas) (2025.1)\n",
      "Requirement already satisfied: tzdata>=2022.7 in /home/pinagm/.venv/lib/python3.12/site-packages (from pandas) (2025.1)\n",
      "Requirement already satisfied: contourpy>=1.0.1 in /home/pinagm/.venv/lib/python3.12/site-packages (from matplotlib) (1.3.1)\n",
      "Requirement already satisfied: cycler>=0.10 in /home/pinagm/.venv/lib/python3.12/site-packages (from matplotlib) (0.12.1)\n",
      "Requirement already satisfied: fonttools>=4.22.0 in /home/pinagm/.venv/lib/python3.12/site-packages (from matplotlib) (4.56.0)\n",
      "Requirement already satisfied: kiwisolver>=1.3.1 in /home/pinagm/.venv/lib/python3.12/site-packages (from matplotlib) (1.4.8)\n",
      "Requirement already satisfied: packaging>=20.0 in /home/pinagm/.venv/lib/python3.12/site-packages (from matplotlib) (24.2)\n",
      "Requirement already satisfied: pillow>=8 in /home/pinagm/.venv/lib/python3.12/site-packages (from matplotlib) (11.1.0)\n",
      "Requirement already satisfied: pyparsing>=2.3.1 in /home/pinagm/.venv/lib/python3.12/site-packages (from matplotlib) (3.2.1)\n",
      "Requirement already satisfied: scipy!=1.9.2,>=1.8 in /home/pinagm/.venv/lib/python3.12/site-packages (from statsmodels) (1.15.2)\n",
      "Requirement already satisfied: patsy>=0.5.6 in /home/pinagm/.venv/lib/python3.12/site-packages (from statsmodels) (1.0.1)\n",
      "Requirement already satisfied: charset-normalizer<4,>=2 in /home/pinagm/.venv/lib/python3.12/site-packages (from requests) (3.4.1)\n",
      "Requirement already satisfied: idna<4,>=2.5 in /home/pinagm/.venv/lib/python3.12/site-packages (from requests) (3.10)\n",
      "Requirement already satisfied: urllib3<3,>=1.21.1 in /home/pinagm/.venv/lib/python3.12/site-packages (from requests) (2.3.0)\n",
      "Requirement already satisfied: certifi>=2017.4.17 in /home/pinagm/.venv/lib/python3.12/site-packages (from requests) (2025.1.31)\n",
      "Collecting et-xmlfile (from openpyxl)\n",
      "  Downloading et_xmlfile-2.0.0-py3-none-any.whl.metadata (2.7 kB)\n",
      "Requirement already satisfied: six>=1.5 in /home/pinagm/.venv/lib/python3.12/site-packages (from python-dateutil>=2.8.2->pandas) (1.17.0)\n",
      "Downloading openpyxl-3.1.5-py2.py3-none-any.whl (250 kB)\n",
      "Downloading et_xmlfile-2.0.0-py3-none-any.whl (18 kB)\n",
      "Installing collected packages: et-xmlfile, openpyxl\n",
      "Successfully installed et-xmlfile-2.0.0 openpyxl-3.1.5\n",
      "Note: you may need to restart the kernel to use updated packages.\n"
     ]
    }
   ],
   "source": [
    "%pip install pandas numpy matplotlib seaborn statsmodels requests openpyxl"
   ]
  },
  {
   "cell_type": "markdown",
   "metadata": {},
   "source": [
    "## Getting the ETF Fund data from State Street Global Advisors"
   ]
  },
  {
   "cell_type": "code",
   "execution_count": 10,
   "metadata": {},
   "outputs": [],
   "source": [
    "# getting all imports squared away\n",
    "import requests as req\n",
    "import pandas as pd\n",
    "import numpy as np\n",
    "import matplotlib.pyplot as plt\n",
    "import seaborn as sns\n",
    "import os\n",
    "import json\n",
    "from datetime import datetime\n",
    "\n",
    "\n",
    "etf_list = ['XLI', 'XLK', 'XLE', 'XLB']\n",
    "ssga = [etf.lower() for etf in etf_list]\n",
    "# Create a subfolder named \"SSGA Data\" if it doesn't exist\n",
    "subfolder = 'SSGA Data'\n",
    "if not os.path.exists(subfolder):\n",
    "    os.makedirs(subfolder)\n",
    "\n",
    "# Initialize an empty list to store dataframes\n",
    "ssga_df_list = []\n",
    "\n",
    "# Loop through each ETF in the list, download the excel file, and save it in the subfolder\n",
    "for etf in ssga:\n",
    "    url = f'https://www.ssga.com/library-content/products/fund-data/etfs/us/holdings-daily-us-en-{etf}.xlsx'\n",
    "    response = req.get(url)\n",
    "    current_date = datetime.now().strftime('%m-%d-%Y')\n",
    "    file_path = os.path.join(subfolder, f'{etf}-{current_date}.xlsx')\n",
    "    with open(file_path, 'wb') as file:\n",
    "        file.write(response.content)\n",
    "    df = pd.read_excel(file_path, skiprows=4, header=0, usecols=\"A:H\")\n",
    "    ssga_df_list.append(df)\n"
   ]
  },
  {
   "cell_type": "code",
   "execution_count": 14,
   "metadata": {},
   "outputs": [
    {
     "name": "stdout",
     "output_type": "stream",
     "text": [
      "                             Name  Ticker Identifier    SEDOL    Weight  \\\n",
      "76              SMITH (A.O.) CORP     AOS  831865209  2816023  0.186860   \n",
      "77   HUNTINGTON INGALLS INDUSTRIE     HII  446413106  B40SSC9  0.164458   \n",
      "78  SSI US GOV MONEY MARKET CLASS       -  924QSGII3        -  0.026875   \n",
      "79                      US DOLLAR       -  999USDZ92        -  0.003086   \n",
      "80        XAI EMINI INDUSTR MAR25  AIXH25  ADI2SGVK5        - -0.000239   \n",
      "\n",
      "   Sector  Shares Held Local Currency  \n",
      "76      -    617461.00            USD  \n",
      "77      -    204036.00            USD  \n",
      "78      -   5931422.87            USD  \n",
      "79      -    680999.90            USD  \n",
      "80      -     10000.00            USD  \n",
      "                             Name  Ticker Identifier    SEDOL    Weight  \\\n",
      "67         SKYWORKS SOLUTIONS INC    SWKS  83088M102  2961053  0.111133   \n",
      "68             ENPHASE ENERGY INC    ENPH  29355A107  B65SQW4  0.092398   \n",
      "69  SSI US GOV MONEY MARKET CLASS       -  924QSGII3        -  0.082990   \n",
      "70                      US DOLLAR       -  999USDZ92        -  0.006814   \n",
      "71        XAK TECHNOLOGY    MAR25  XAKH25  ADI2SGBY7        - -0.000047   \n",
      "\n",
      "   Sector  Shares Held Local Currency  \n",
      "67      -   1254542.00            USD  \n",
      "68      -   1061181.00            USD  \n",
      "69      -  63068879.39            USD  \n",
      "70      -   5178139.55            USD  \n",
      "71      -     33000.00            USD  \n",
      "                             Name  Ticker Identifier    SEDOL    Weight  \\\n",
      "20             COTERRA ENERGY INC    CTRA  127097103  2162340  1.441101   \n",
      "21                       APA CORP     APA  03743Q108  BNNF1C1  0.593995   \n",
      "22  SSI US GOV MONEY MARKET CLASS       -  924QSGII3        -  0.224003   \n",
      "23                      US DOLLAR       -  999USDZ92        -  0.055815   \n",
      "24        XAE ENERGY        MAR25  XAEH25  ADI2RCKY7        -  0.022568   \n",
      "\n",
      "   Sector  Shares Held Local Currency  \n",
      "20      -  16998892.00            USD  \n",
      "21      -   8537286.00            USD  \n",
      "22      -  76044969.42            USD  \n",
      "23      -  18948087.94            USD  \n",
      "24      -    262800.00            USD  \n",
      "                             Name  Ticker Identifier    SEDOL    Weight  \\\n",
      "26                  CELANESE CORP      CE  150870103  B05MZT4  0.566178   \n",
      "27                       FMC CORP     FMC  302491303  2328603  0.469358   \n",
      "28  SSI US GOV MONEY MARKET CLASS       -  924QSGII3        -  0.114189   \n",
      "29                      US DOLLAR       -  999USDZ92        -  0.007151   \n",
      "30        XAB MATERIALS     MAR25  XABH25  ADI2RCL00        -  0.000146   \n",
      "\n",
      "   Sector  Shares Held Local Currency  \n",
      "26      -    621346.00            USD  \n",
      "27      -    709583.00            USD  \n",
      "28      -   6592821.94            USD  \n",
      "29      -    412865.39            USD  \n",
      "30      -      7200.00            USD  \n"
     ]
    }
   ],
   "source": [
    "for df in ssga_df_list:\n",
    "    # Find the index of the first occurrence of the specific string\n",
    "    drop_index = df[df['Name'] == \"Past performance is not a reliable indicator of future performance. Investment return and principal value will fluctuate, so you may have a gain or loss when shares are sold. Current performance may be higher or lower than that quoted. All results are historical and assume the reinvestment of dividends and capital gains. Visit www.ssga.com for most recent month-end performance. \"].index\n",
    "\n",
    "    # Drop all rows starting from the found index\n",
    "    if not drop_index.empty:\n",
    "        df = df[:drop_index[0]]\n",
    "\n",
    "    # Drop the last row if it contains only NaN values\n",
    "    if df.iloc[-1].isna().all():\n",
    "        df = df[:-1]\n",
    "\n",
    "    print(df.tail())"
   ]
  }
 ],
 "metadata": {
  "kernelspec": {
   "display_name": ".venv",
   "language": "python",
   "name": "python3"
  },
  "language_info": {
   "codemirror_mode": {
    "name": "ipython",
    "version": 3
   },
   "file_extension": ".py",
   "mimetype": "text/x-python",
   "name": "python",
   "nbconvert_exporter": "python",
   "pygments_lexer": "ipython3",
   "version": "3.12.3"
  }
 },
 "nbformat": 4,
 "nbformat_minor": 2
}
